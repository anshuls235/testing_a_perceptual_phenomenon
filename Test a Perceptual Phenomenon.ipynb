{
 "cells": [
  {
   "cell_type": "markdown",
   "metadata": {},
   "source": [
    "### Analyzing the Stroop Effect\n",
    "Perform the analysis in the space below. Remember to follow [the instructions](https://docs.google.com/document/d/1-OkpZLjG_kX9J6LIQ5IltsqMzVWjh36QpnP2RYpVdPU/pub?embedded=True) and review the [project rubric](https://review.udacity.com/#!/rubrics/71/view) before submitting. Once you've completed the analysis and write up, download this file as a PDF or HTML file and submit in the next section.\n",
    "\n",
    "\n",
    "(1) What is the independent variable? What is the dependent variable?"
   ]
  },
  {
   "cell_type": "markdown",
   "metadata": {},
   "source": [
    "The two main variables in an experiment are <b>Independent</b> and <b>Dependent</b> variable.<br><br>\n",
    ">An <b>independent variable</b> is the variable that is changed or controlled in an experiment to test the effects on the dependent variable.<br><br>\n",
    "A <b>dependent variable</b> is the variable being tested and measured in a scientific experiment.<br>\n",
    "\n",
    "The dependent variable is 'dependent' on the independent variable. As the experimenter changes the independent variable, the effect on the dependent variable is observed and recorded.\n",
    "\n",
    "\n",
    "For example, a scientist wants to see if the brightness of light has any effect on a moth being attracted to the light. The brightness of the light is controlled by the scientist. This would be the independent variable. How the moth reacts to the different light levels (distance to light source) would be the dependent variable.<br>\n",
    "\n",
    ">In case of <b>Stroop Effect</b>, the <b>independent variable</b> will be that whether its a congruent words condition(same font name and color) or its an incongruent words condition(different font name and color) as it is the only condition being controlled by the experimenter.The <b>dependent variable</b> will be the amount of time taken by participants to complete each of the above conditions."
   ]
  },
  {
   "cell_type": "markdown",
   "metadata": {},
   "source": [
    "(2) What is an appropriate set of hypotheses for this task? What kind of statistical test do you expect to perform? Justify your choices."
   ]
  },
  {
   "cell_type": "markdown",
   "metadata": {},
   "source": [
    "Let $\\mu_{con}$ be the population mean of the time taken to complete a congruent condition in stroop effect and $\\mu_{inc}$ be the population mean of the time taken to complete the incongruent condition.<br>\n",
    "The statistical test that i would be using is called <b>paired sample t-test</b>.The paired sample t-test, sometimes called the dependent sample t-test, is a statistical procedure used to determine whether the mean difference between two sets of observations is zero. In a paired sample t-test, each subject or entity is measured twice, resulting in pairs of observations. Common applications of the paired sample t-test include case-control studies or repeated-measures designs.<br>\n",
    "The following can be the set of hypothesis for this task:\n",
    ">The null hypothesis($H_0$) remains the same for each type of alternative hypothesis. $H_0$ assumes that the difference between the population means is always 0.\n",
    "\n",
    "## Hypothesis-1:\n",
    "This is called the <b>two-tailed hypothesis</b>.Here the alternate hypothesis($H_1$) assumes that the the difference between the population means is not equal to 0.<br>\n",
    "$$H_0 : \\mu_{con} = \\mu_{inc}$$\n",
    "$$H_1 : \\mu_{con}\\neq \\mu_{inc}$$\n",
    "## Hypothesis-2:\n",
    "This is called the <b>upper-tailed hypothesis</b>.Here the alternate hypothesis($H_1$) assumes that the the difference between the population means is greater than 0.<br>\n",
    "$$H_0 : \\mu_{inc} - \\mu_{con} = 0$$\n",
    "$$H_1 : \\mu_{inc} - \\mu_{con} > 0$$\n",
    "<br>\n",
    "## Hypothesis-3:\n",
    "This is called the <b>lower-tailed hypothesis</b>.Here the alternate hypothesis($H_1$) assumes that the the difference between the population means is less than 0.<br>\n",
    "$$H_0 : \\mu_{inc} - \\mu_{con} = 0$$\n",
    "$$H_1 : \\mu_{inc} - \\mu_{con} < 0$$\n",
    "<br>\n",
    ">The paired sample t-test has four main assumptions:\n",
    "- The dependent variable must be continuous (interval/ratio).\n",
    "- The observations are independent of one another.\n",
    "- The dependent variable should be approximately normally distributed.\n",
    "- The dependent variable should not contain any outliers."
   ]
  },
  {
   "cell_type": "markdown",
   "metadata": {},
   "source": [
    "(3) Report some descriptive statistics regarding this dataset. Include at least one measure of central tendency and at least one measure of variability. The name of the data file is 'stroopdata.csv'."
   ]
  },
  {
   "cell_type": "code",
   "execution_count": 1,
   "metadata": {},
   "outputs": [
    {
     "data": {
      "text/html": [
       "<div>\n",
       "<style>\n",
       "    .dataframe thead tr:only-child th {\n",
       "        text-align: right;\n",
       "    }\n",
       "\n",
       "    .dataframe thead th {\n",
       "        text-align: left;\n",
       "    }\n",
       "\n",
       "    .dataframe tbody tr th {\n",
       "        vertical-align: top;\n",
       "    }\n",
       "</style>\n",
       "<table border=\"1\" class=\"dataframe\">\n",
       "  <thead>\n",
       "    <tr style=\"text-align: right;\">\n",
       "      <th></th>\n",
       "      <th>Congruent</th>\n",
       "      <th>Incongruent</th>\n",
       "    </tr>\n",
       "  </thead>\n",
       "  <tbody>\n",
       "    <tr>\n",
       "      <th>0</th>\n",
       "      <td>12.079</td>\n",
       "      <td>19.278</td>\n",
       "    </tr>\n",
       "    <tr>\n",
       "      <th>1</th>\n",
       "      <td>16.791</td>\n",
       "      <td>18.741</td>\n",
       "    </tr>\n",
       "    <tr>\n",
       "      <th>2</th>\n",
       "      <td>9.564</td>\n",
       "      <td>21.214</td>\n",
       "    </tr>\n",
       "    <tr>\n",
       "      <th>3</th>\n",
       "      <td>8.630</td>\n",
       "      <td>15.687</td>\n",
       "    </tr>\n",
       "    <tr>\n",
       "      <th>4</th>\n",
       "      <td>14.669</td>\n",
       "      <td>22.803</td>\n",
       "    </tr>\n",
       "    <tr>\n",
       "      <th>5</th>\n",
       "      <td>12.238</td>\n",
       "      <td>20.878</td>\n",
       "    </tr>\n",
       "    <tr>\n",
       "      <th>6</th>\n",
       "      <td>14.692</td>\n",
       "      <td>24.572</td>\n",
       "    </tr>\n",
       "    <tr>\n",
       "      <th>7</th>\n",
       "      <td>8.987</td>\n",
       "      <td>17.394</td>\n",
       "    </tr>\n",
       "    <tr>\n",
       "      <th>8</th>\n",
       "      <td>9.401</td>\n",
       "      <td>20.762</td>\n",
       "    </tr>\n",
       "    <tr>\n",
       "      <th>9</th>\n",
       "      <td>14.480</td>\n",
       "      <td>26.282</td>\n",
       "    </tr>\n",
       "    <tr>\n",
       "      <th>10</th>\n",
       "      <td>22.328</td>\n",
       "      <td>24.524</td>\n",
       "    </tr>\n",
       "    <tr>\n",
       "      <th>11</th>\n",
       "      <td>15.298</td>\n",
       "      <td>18.644</td>\n",
       "    </tr>\n",
       "    <tr>\n",
       "      <th>12</th>\n",
       "      <td>15.073</td>\n",
       "      <td>17.510</td>\n",
       "    </tr>\n",
       "    <tr>\n",
       "      <th>13</th>\n",
       "      <td>16.929</td>\n",
       "      <td>20.330</td>\n",
       "    </tr>\n",
       "    <tr>\n",
       "      <th>14</th>\n",
       "      <td>18.200</td>\n",
       "      <td>35.255</td>\n",
       "    </tr>\n",
       "    <tr>\n",
       "      <th>15</th>\n",
       "      <td>12.130</td>\n",
       "      <td>22.158</td>\n",
       "    </tr>\n",
       "    <tr>\n",
       "      <th>16</th>\n",
       "      <td>18.495</td>\n",
       "      <td>25.139</td>\n",
       "    </tr>\n",
       "    <tr>\n",
       "      <th>17</th>\n",
       "      <td>10.639</td>\n",
       "      <td>20.429</td>\n",
       "    </tr>\n",
       "    <tr>\n",
       "      <th>18</th>\n",
       "      <td>11.344</td>\n",
       "      <td>17.425</td>\n",
       "    </tr>\n",
       "    <tr>\n",
       "      <th>19</th>\n",
       "      <td>12.369</td>\n",
       "      <td>34.288</td>\n",
       "    </tr>\n",
       "    <tr>\n",
       "      <th>20</th>\n",
       "      <td>12.944</td>\n",
       "      <td>23.894</td>\n",
       "    </tr>\n",
       "    <tr>\n",
       "      <th>21</th>\n",
       "      <td>14.233</td>\n",
       "      <td>17.960</td>\n",
       "    </tr>\n",
       "    <tr>\n",
       "      <th>22</th>\n",
       "      <td>19.710</td>\n",
       "      <td>22.058</td>\n",
       "    </tr>\n",
       "    <tr>\n",
       "      <th>23</th>\n",
       "      <td>16.004</td>\n",
       "      <td>21.157</td>\n",
       "    </tr>\n",
       "  </tbody>\n",
       "</table>\n",
       "</div>"
      ],
      "text/plain": [
       "    Congruent  Incongruent\n",
       "0      12.079       19.278\n",
       "1      16.791       18.741\n",
       "2       9.564       21.214\n",
       "3       8.630       15.687\n",
       "4      14.669       22.803\n",
       "5      12.238       20.878\n",
       "6      14.692       24.572\n",
       "7       8.987       17.394\n",
       "8       9.401       20.762\n",
       "9      14.480       26.282\n",
       "10     22.328       24.524\n",
       "11     15.298       18.644\n",
       "12     15.073       17.510\n",
       "13     16.929       20.330\n",
       "14     18.200       35.255\n",
       "15     12.130       22.158\n",
       "16     18.495       25.139\n",
       "17     10.639       20.429\n",
       "18     11.344       17.425\n",
       "19     12.369       34.288\n",
       "20     12.944       23.894\n",
       "21     14.233       17.960\n",
       "22     19.710       22.058\n",
       "23     16.004       21.157"
      ]
     },
     "execution_count": 1,
     "metadata": {},
     "output_type": "execute_result"
    }
   ],
   "source": [
    "# Perform the analysis here\n",
    "import pandas as pd\n",
    "import numpy as np\n",
    "import matplotlib.pyplot as plt\n",
    "%matplotlib inline\n",
    "sample = pd.read_csv('stroopdata.csv')\n",
    "sample"
   ]
  },
  {
   "cell_type": "markdown",
   "metadata": {},
   "source": [
    "The measures of central tendency include: <b>mean, mode and median</b>."
   ]
  },
  {
   "cell_type": "code",
   "execution_count": 2,
   "metadata": {},
   "outputs": [
    {
     "data": {
      "text/plain": [
       "(14.051124999999999, 22.015916666666666)"
      ]
     },
     "execution_count": 2,
     "metadata": {},
     "output_type": "execute_result"
    }
   ],
   "source": [
    "#mean\n",
    "mean_con = np.mean(sample.Congruent)\n",
    "mean_inc = np.mean(sample.Incongruent)\n",
    "mean_con,mean_inc"
   ]
  },
  {
   "cell_type": "code",
   "execution_count": 3,
   "metadata": {},
   "outputs": [
    {
     "data": {
      "text/plain": [
       "(14.3565, 21.017499999999998)"
      ]
     },
     "execution_count": 3,
     "metadata": {},
     "output_type": "execute_result"
    }
   ],
   "source": [
    "#median\n",
    "med_con = np.median(sample.Congruent)\n",
    "med_inc = np.median(sample.Incongruent)\n",
    "med_con,med_inc"
   ]
  },
  {
   "cell_type": "markdown",
   "metadata": {},
   "source": [
    "The measures of variability include: <b>range, the interquartile range (IQR), variance, and standard deviation</b>."
   ]
  },
  {
   "cell_type": "code",
   "execution_count": 4,
   "metadata": {},
   "outputs": [
    {
     "data": {
      "text/plain": [
       "(13.698000000000002, 19.568000000000001)"
      ]
     },
     "execution_count": 4,
     "metadata": {},
     "output_type": "execute_result"
    }
   ],
   "source": [
    "#Range\n",
    "R_con = sample.Congruent.max() - sample.Congruent.min()\n",
    "R_inc = sample.Incongruent.max() - sample.Incongruent.min()\n",
    "R_con,R_inc"
   ]
  },
  {
   "cell_type": "code",
   "execution_count": 5,
   "metadata": {},
   "outputs": [
    {
     "data": {
      "text/plain": [
       "(4.3054999999999986, 5.3347499999999997)"
      ]
     },
     "execution_count": 5,
     "metadata": {},
     "output_type": "execute_result"
    }
   ],
   "source": [
    "#Interquartile Range(IQR)\n",
    "IQR_con = np.percentile(sample.Congruent,75) - np.percentile(sample.Congruent,25)\n",
    "IQR_inc = np.percentile(sample.Incongruent,75) - np.percentile(sample.Incongruent,25)\n",
    "IQR_con,IQR_inc"
   ]
  },
  {
   "cell_type": "code",
   "execution_count": 6,
   "metadata": {},
   "outputs": [],
   "source": [
    "from math import *\n",
    "def get_var_and_std(x):\n",
    "    #number of records\n",
    "    n = len(x)\n",
    "    mean = x.mean()\n",
    "    #difference from mean\n",
    "    dfm = x - mean\n",
    "    #squared difference from mean\n",
    "    sqm = dfm*dfm\n",
    "    #variance\n",
    "    var = sqm.sum()/(n-1)\n",
    "    #standard deviation\n",
    "    std = sqrt(var)\n",
    "    return (var,std)"
   ]
  },
  {
   "cell_type": "markdown",
   "metadata": {},
   "source": [
    "In the function above, when calculating sample variance and sample standard deviation, the squared difference from mean is divided by <b>(n-1)</b> instead of <b>n</b> in order to correct the bias from the estimation of population variance. This method is called bessel's correction."
   ]
  },
  {
   "cell_type": "code",
   "execution_count": 7,
   "metadata": {},
   "outputs": [
    {
     "name": "stdout",
     "output_type": "stream",
     "text": [
      "Variance : 12.67     Standard Deviation : 3.56\n"
     ]
    }
   ],
   "source": [
    "#Variance and standard deviation for Congruent condition\n",
    "var, std = get_var_and_std(sample.Congruent)\n",
    "print('Variance : {}     Standard Deviation : {}'.format(round(var,2),round(std,2)))"
   ]
  },
  {
   "cell_type": "code",
   "execution_count": 8,
   "metadata": {},
   "outputs": [
    {
     "name": "stdout",
     "output_type": "stream",
     "text": [
      "Variance : 23.01     Standard Deviation : 4.8\n"
     ]
    }
   ],
   "source": [
    "#Variance and standard deviation for Incongruent condition\n",
    "var, std = get_var_and_std(sample.Incongruent)\n",
    "print('Variance : {}     Standard Deviation : {}'.format(round(var,2),round(std,2)))"
   ]
  },
  {
   "cell_type": "markdown",
   "metadata": {},
   "source": [
    "(4) Provide one or two visualizations that show the distribution of the sample data. Write one or two sentences noting what you observe about the plot or plots."
   ]
  },
  {
   "cell_type": "markdown",
   "metadata": {},
   "source": [
    "I will be using a histogram and a box-plot to show the distribution of the sample data"
   ]
  },
  {
   "cell_type": "markdown",
   "metadata": {},
   "source": [
    "A histogram is a useful plot to understand the measures of central tendency.Below the histograms are plotted for both the conditions(Congruent and Incongruent).The histogram will tell us the frequency of the time ranges.<br>\n",
    "Looking at the the histograms for both the conditions it can be said that the histograms are right-skewed instead of normally distributed. "
   ]
  },
  {
   "cell_type": "code",
   "execution_count": 9,
   "metadata": {},
   "outputs": [
    {
     "data": {
      "image/png": "[encoded data removed]",
      "text/plain": [
       "<matplotlib.figure.Figure at 0x7f98c34549b0>"
      ]
     },
     "metadata": {},
     "output_type": "display_data"
    }
   ],
   "source": [
    "#Histograms\n",
    "ind = np.arange(0,40,5)\n",
    "plt.hist(sample.Congruent,alpha=0.5,label='Congruent')\n",
    "plt.hist(sample.Incongruent,alpha=0.5,label='Incongruent')\n",
    "plt.xticks(ind)\n",
    "plt.legend();"
   ]
  },
  {
   "cell_type": "markdown",
   "metadata": {},
   "source": [
    "A box-plot is a good way to assess the measures of variability. Below the box-plots for both the conditions have been plotted.A box-plot can also be used to find outliers(The values which are very low or very high with respect to all the other values) in a data."
   ]
  },
  {
   "cell_type": "code",
   "execution_count": 10,
   "metadata": {},
   "outputs": [
    {
     "data": {
      "image/png": "[encoded data removed]",
      "text/plain": [
       "<matplotlib.figure.Figure at 0x7f98c349e7b8>"
      ]
     },
     "metadata": {},
     "output_type": "display_data"
    }
   ],
   "source": [
    "#Box-Plots\n",
    "fig,ax = plt.subplots(figsize=(8,6))\n",
    "ax.boxplot([sample.Congruent,sample.Incongruent])\n",
    "ax.set_xticklabels(['Congruent','Incongruent']);"
   ]
  },
  {
   "cell_type": "markdown",
   "metadata": {},
   "source": [
    "By looking at the above graph it can be proved that :-\n",
    "   - almost all the values for the Incongruent conditions are greater than 75% of values for the congruent condition\n",
    "   - There are two outliers for the Incongruent condition and none for the congruent conndition. "
   ]
  },
  {
   "cell_type": "markdown",
   "metadata": {},
   "source": [
    "(5) Now, perform the statistical test and report the results. What is the confidence level and your critical statistic value? Do you reject the null hypothesis or fail to reject it? Come to a conclusion in terms of the experiment task. Did the results match up with your expectations?"
   ]
  },
  {
   "cell_type": "code",
   "execution_count": 11,
   "metadata": {},
   "outputs": [
    {
     "data": {
      "text/plain": [
       "0      7.199\n",
       "1      1.950\n",
       "2     11.650\n",
       "3      7.057\n",
       "4      8.134\n",
       "5      8.640\n",
       "6      9.880\n",
       "7      8.407\n",
       "8     11.361\n",
       "9     11.802\n",
       "10     2.196\n",
       "11     3.346\n",
       "12     2.437\n",
       "13     3.401\n",
       "14    17.055\n",
       "15    10.028\n",
       "16     6.644\n",
       "17     9.790\n",
       "18     6.081\n",
       "19    21.919\n",
       "20    10.950\n",
       "21     3.727\n",
       "22     2.348\n",
       "23     5.153\n",
       "dtype: float64"
      ]
     },
     "execution_count": 11,
     "metadata": {},
     "output_type": "execute_result"
    }
   ],
   "source": [
    "# Perform the statistical test here\n",
    "#differences\n",
    "diff = sample.Incongruent - sample.Congruent\n",
    "diff"
   ]
  },
  {
   "cell_type": "code",
   "execution_count": 12,
   "metadata": {},
   "outputs": [
    {
     "data": {
      "text/plain": [
       "7.9647916666666658"
      ]
     },
     "execution_count": 12,
     "metadata": {},
     "output_type": "execute_result"
    }
   ],
   "source": [
    "#mean difference\n",
    "mean_diff = diff.mean()\n",
    "mean_diff"
   ]
  },
  {
   "cell_type": "code",
   "execution_count": 13,
   "metadata": {},
   "outputs": [
    {
     "data": {
      "text/plain": [
       "4.864826910359056"
      ]
     },
     "execution_count": 13,
     "metadata": {},
     "output_type": "execute_result"
    }
   ],
   "source": [
    "#standard deviation of differences\n",
    "var_diff , std_diff = get_var_and_std(diff)\n",
    "std_diff"
   ]
  },
  {
   "cell_type": "code",
   "execution_count": 14,
   "metadata": {},
   "outputs": [
    {
     "data": {
      "text/plain": [
       "24"
      ]
     },
     "execution_count": 14,
     "metadata": {},
     "output_type": "execute_result"
    }
   ],
   "source": [
    "#number of records\n",
    "n = sample.shape[0]\n",
    "n"
   ]
  },
  {
   "cell_type": "code",
   "execution_count": 15,
   "metadata": {},
   "outputs": [
    {
     "data": {
      "text/plain": [
       "0.9930286347783406"
      ]
     },
     "execution_count": 15,
     "metadata": {},
     "output_type": "execute_result"
    }
   ],
   "source": [
    "from math import *\n",
    "#Standard Error of mean difference\n",
    "SE_mean_diff = std_diff/sqrt(n)\n",
    "SE_mean_diff"
   ]
  },
  {
   "cell_type": "code",
   "execution_count": 16,
   "metadata": {},
   "outputs": [
    {
     "data": {
      "text/plain": [
       "8.020706944109957"
      ]
     },
     "execution_count": 16,
     "metadata": {},
     "output_type": "execute_result"
    }
   ],
   "source": [
    "#t-statistic\n",
    "t = mean_diff/SE_mean_diff\n",
    "t"
   ]
  },
  {
   "cell_type": "code",
   "execution_count": 17,
   "metadata": {},
   "outputs": [
    {
     "data": {
      "text/plain": [
       "23"
      ]
     },
     "execution_count": 17,
     "metadata": {},
     "output_type": "execute_result"
    }
   ],
   "source": [
    "#degree of freedom\n",
    "df = n-1\n",
    "df"
   ]
  },
  {
   "cell_type": "markdown",
   "metadata": {},
   "source": [
    "The value calculated for the t-statistic is 8.0207 on 23 df(degree of freedom)"
   ]
  },
  {
   "cell_type": "code",
   "execution_count": 18,
   "metadata": {},
   "outputs": [
    {
     "data": {
      "image/png": "[encoded data removed]",
      "text/plain": [
       "<matplotlib.figure.Figure at 0x7f98c13aa470>"
      ]
     },
     "metadata": {},
     "output_type": "display_data"
    }
   ],
   "source": [
    "#t-distribution\n",
    "t_dist = np.random.standard_t(df,10000)\n",
    "plt.hist(t_dist,bins=100,normed=True)\n",
    "plt.axvline(x=t,color='r')\n",
    "plt.axvline(x=-t,color='r');"
   ]
  },
  {
   "cell_type": "markdown",
   "metadata": {},
   "source": [
    "The t-statistic value is so high that nowhere it is overlapping the t-distribution above."
   ]
  },
  {
   "cell_type": "code",
   "execution_count": 19,
   "metadata": {},
   "outputs": [
    {
     "data": {
      "text/plain": [
       "0.0"
      ]
     },
     "execution_count": 19,
     "metadata": {},
     "output_type": "execute_result"
    }
   ],
   "source": [
    "#p-value\n",
    "pval = (t_dist > t).mean() + (t_dist < -t).mean()\n",
    "pval"
   ]
  },
  {
   "cell_type": "markdown",
   "metadata": {},
   "source": [
    "It would be useful to calculate a confidence interval for the mean difference to tell us within what limits\n",
    "the true difference is likely to lie. A 95% confidence interval for the true mean difference is:\n",
    "$$\\bar{d} \\pm tˆ* \\times SE(\\bar{d})$$\n",
    "where $tˆ*$ is the 2.5% point of the t-distribution on n − 1 degrees of freedom.<br>\n",
    "The value of $tˆ*$ is found using the [t-table](http://www.sjsu.edu/faculty/gerstman/StatPrimer/t-table.pdf)."
   ]
  },
  {
   "cell_type": "code",
   "execution_count": 22,
   "metadata": {},
   "outputs": [
    {
     "data": {
      "text/plain": [
       "(5.9102154213102791, 10.019367912023053)"
      ]
     },
     "execution_count": 22,
     "metadata": {},
     "output_type": "execute_result"
    }
   ],
   "source": [
    "lower_bound,upper_bound = (mean_diff - (2.069*SE_mean_diff),mean_diff + (2.069*SE_mean_diff))\n",
    "lower_bound,upper_bound"
   ]
  },
  {
   "cell_type": "markdown",
   "metadata": {},
   "source": [
    "This confirms that, although the difference in times is statistically significant, it is actually\n",
    "relatively small. We can be 95% sure that the true mean difference lies somewhere between\n",
    "just under 6 points and just over 10 points."
   ]
  },
  {
   "cell_type": "markdown",
   "metadata": {},
   "source": [
    "# Conclusion:-\n",
    "The p-value that is the probability of finding the statistic or one more extreame in favor of alternative if the null hypothesis is true, is 0 here. Since p-value is 0, we have sufficient statistical evidence to reject the null hypothesis and state that the population mean time difference for the Congruent and Incongruent conditions is not equal to zero. "
   ]
  },
  {
   "cell_type": "code",
   "execution_count": null,
   "metadata": {},
   "outputs": [],
   "source": []
  }
 ],
 "metadata": {
  "kernelspec": {
   "display_name": "Python 3",
   "language": "python",
   "name": "python3"
  },
  "language_info": {
   "codemirror_mode": {
    "name": "ipython",
    "version": 3
   },
   "file_extension": ".py",
   "mimetype": "text/x-python",
   "name": "python",
   "nbconvert_exporter": "python",
   "pygments_lexer": "ipython3",
   "version": "3.6.3"
  }
 },
 "nbformat": 4,
 "nbformat_minor": 2
}
